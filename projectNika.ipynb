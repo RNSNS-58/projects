{
  "nbformat": 4,
  "nbformat_minor": 0,
  "metadata": {
    "colab": {
      "provenance": [],
      "authorship_tag": "ABX9TyMd0MUwKHOArulE646xbNq3",
      "include_colab_link": true
    },
    "kernelspec": {
      "name": "python3",
      "display_name": "Python 3"
    },
    "language_info": {
      "name": "python"
    }
  },
  "cells": [
    {
      "cell_type": "markdown",
      "metadata": {
        "id": "view-in-github",
        "colab_type": "text"
      },
      "source": [
        "<a href=\"https://colab.research.google.com/github/RNSNS-58/projects/blob/main/projectNika.ipynb\" target=\"_parent\"><img src=\"https://colab.research.google.com/assets/colab-badge.svg\" alt=\"Open In Colab\"/></a>"
      ]
    },
    {
      "cell_type": "code",
      "execution_count": 4,
      "metadata": {
        "colab": {
          "base_uri": "https://localhost:8080/"
        },
        "id": "sYx13-jEg3ww",
        "outputId": "ec5bbedd-df9e-4cbf-9511-b64856f4b421"
      },
      "outputs": [
        {
          "output_type": "stream",
          "name": "stdout",
          "text": [
            "MAE on train:  1.046487774982733e-07\n",
            "MSE on train:  2.6334214008622718e-14\n",
            "R2 on train:  0.9917039328812336\n",
            "MAE on test:  1.050037112791464e-05\n",
            "MSE on test:  1.6357286853538976e-09\n",
            "R2 on test:  -515.2363085544443\n"
          ]
        }
      ],
      "source": [
        "import numpy as np\n",
        "import pandas as pd\n",
        "import matplotlib.pyplot as plt\n",
        "from sklearn.model_selection import train_test_split\n",
        "from sklearn.metrics import *\n",
        "from sklearn.linear_model import LinearRegression, Ridge, Lasso, LogisticRegression\n",
        "from sklearn.ensemble import RandomForestRegressor, GradientBoostingRegressor\n",
        "from sklearn.ensemble import RandomForestClassifier, GradientBoostingClassifier\n",
        "\n",
        "df = pd.read_csv('all_data_ivium_new_data.csv')\n",
        "df.drop(df.columns[-1], axis=1, inplace=True)\n",
        "df.drop(df.columns[0], axis=1, inplace=True)\n",
        "df.dropna()\n",
        "df\n",
        "\n",
        "data_classification = df.drop(df.columns[-2], axis=1)\n",
        "data_classification\n",
        "\n",
        "data_regression = df.drop(df.columns[-1], axis=1)\n",
        "data_regression\n",
        "\n",
        "X_data = data_regression.drop(data_regression.columns[-1], axis=1)\n",
        "y_data = data_regression[data_regression.columns[-1]].values\n",
        "X_data\n",
        "X_train, X_test, y_train, y_test = train_test_split(X_data, y_data, test_size=0.2, random_state=41)\n",
        "\n",
        "model = LinearRegression()\n",
        "model.fit(X_train, y_train)\n",
        "\n",
        "print(f\"MAE on train: \", mean_absolute_error(y_train, model.predict(X_train)))\n",
        "print(f\"MSE on train: \", mean_squared_error(y_train, model.predict(X_train)))\n",
        "print(f\"R2 on train: \", r2_score(y_train, model.predict(X_train)))\n",
        "print(f\"MAE on test: \", mean_absolute_error(y_test, model.predict(X_test)))\n",
        "print(f\"MSE on test: \", mean_squared_error(y_test, model.predict(X_test)))\n",
        "print(f\"R2 on test: \", r2_score(y_test, model.predict(X_test)))"
      ]
    }
  ]
}